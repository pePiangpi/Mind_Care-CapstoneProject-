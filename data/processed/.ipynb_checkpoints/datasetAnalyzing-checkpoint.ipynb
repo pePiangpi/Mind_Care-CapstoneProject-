{
 "cells": [
  {
   "cell_type": "code",
   "execution_count": 58,
   "id": "bf215fc1-c71e-4232-a91d-e64947489dfd",
   "metadata": {},
   "outputs": [
    {
     "name": "stdout",
     "output_type": "stream",
     "text": [
      "Combingin all data sources.........\n"
     ]
    }
   ],
   "source": [
    "import pandas as pd\n",
    "import json\n",
    "import os\n",
    "print(\"Combingin all data sources.........\")"
   ]
  },
  {
   "cell_type": "code",
   "execution_count": 59,
   "id": "e2aa6cbc-61b3-4baf-b5c5-817d6e101012",
   "metadata": {},
   "outputs": [],
   "source": [
    "all_conversations = []"
   ]
  },
  {
   "cell_type": "code",
   "execution_count": 60,
   "id": "b2423d02-da06-4a06-a720-1a43905cabf9",
   "metadata": {},
   "outputs": [
    {
     "name": "stdout",
     "output_type": "stream",
     "text": [
      "Loaded 44 conversations\n"
     ]
    }
   ],
   "source": [
    "# Survery form data\n",
    "# Open your JSONL file properly\n",
    "with open(\"data/processed/survey.jsonl\", \"r\", encoding=\"utf-8\") as f:\n",
    "    for line in f:\n",
    "        line = line.strip()\n",
    "        if not line:\n",
    "            continue\n",
    "        try:\n",
    "            data = json.loads(line)\n",
    "            # Make sure it is in 'messages' format\n",
    "            if \"user\" in data and \"assistant\" in data:\n",
    "                normalized = {\n",
    "                    \"messages\": [\n",
    "                        {\"role\": \"user\", \"content\": data[\"user\"]},\n",
    "                        {\"role\": \"assistant\", \"content\": data[\"assistant\"]}\n",
    "                    ]\n",
    "                }\n",
    "            elif \"messages\" in data:\n",
    "                normalized = data\n",
    "            else:\n",
    "                print(f\"Unknown format, skipping line: {line[:50]}\")\n",
    "                continue\n",
    "\n",
    "            all_conversations.append(normalized)\n",
    "        except json.JSONDecodeError as e:\n",
    "            print(f\"Skipping invalid JSON line: {line[:50]} | Error: {e}\")\n",
    "\n",
    "print(f\"Loaded {len(all_conversations)} conversations\")\n"
   ]
  },
  {
   "cell_type": "code",
   "execution_count": 65,
   "id": "8f15b210-a5e1-4ee8-beb0-0de06e5be761",
   "metadata": {},
   "outputs": [
    {
     "name": "stdout",
     "output_type": "stream",
     "text": [
      "📋 Reading CSV file...\n",
      "📊 Columns found: ['conv_id', 'utterance_idx', 'context', 'prompt', 'speaker_idx', 'utterance', 'selfeval', 'tags']\n",
      "📊 Total rows: 76668\n",
      "\n",
      "📄 First few rows:\n",
      "        conv_id  utterance_idx      context  \\\n",
      "0  hit:0_conv:1              1  sentimental   \n",
      "1  hit:0_conv:1              2  sentimental   \n",
      "2  hit:0_conv:1              3  sentimental   \n",
      "3  hit:0_conv:1              4  sentimental   \n",
      "4  hit:0_conv:1              5  sentimental   \n",
      "\n",
      "                                              prompt  speaker_idx  \\\n",
      "0  I remember going to the fireworks with my best...            1   \n",
      "1  I remember going to the fireworks with my best...            0   \n",
      "2  I remember going to the fireworks with my best...            1   \n",
      "3  I remember going to the fireworks with my best...            0   \n",
      "4  I remember going to the fireworks with my best...            1   \n",
      "\n",
      "                                           utterance     selfeval tags  \n",
      "0  I remember going to see the fireworks with my ...  5|5|5_2|2|5  NaN  \n",
      "1  Was this a friend you were in love with_comma_...  5|5|5_2|2|5  NaN  \n",
      "2                This was a best friend. I miss her.  5|5|5_2|2|5  NaN  \n",
      "3                                Where has she gone?  5|5|5_2|2|5  NaN  \n",
      "4                                 We no longer talk.  5|5|5_2|2|5  NaN  \n",
      "✅ Added 17823 conversations from EmpatheticDialogues\n",
      "💾 Saved to data/processed/empathetic_conversations.jsonl\n"
     ]
    }
   ],
   "source": [
    "# Empathetic Conversation data\n",
    "empathetic_file = \"data/raw/empatheticdialogues/train.csv\"\n",
    "\n",
    "\n",
    "if os.path.exists(empathetic_file):\n",
    "    try:\n",
    "        # First, let's check what columns exist\n",
    "        print(\"📋 Reading CSV file...\")\n",
    "        # Try comma first\n",
    "        try:\n",
    "            df = pd.read_csv(empathetic_file, sep=',', encoding='utf-8', on_bad_lines='skip')\n",
    "        except:\n",
    "            # If comma fails, try tab\n",
    "            print(\"⚠️ Comma separator failed, trying tab...\")\n",
    "            df = pd.read_csv(empathetic_file, sep='\\t', encoding='utf-8', on_bad_lines='skip')\n",
    "        \n",
    "        # Print column names to debug\n",
    "        print(f\"📊 Columns found: {list(df.columns)}\")\n",
    "        print(f\"📊 Total rows: {len(df)}\")\n",
    "        print(f\"\\n📄 First few rows:\")\n",
    "        print(df.head())\n",
    "        \n",
    "        # Clean column names (remove extra spaces)\n",
    "        df.columns = df.columns.str.strip()\n",
    "        \n",
    "        # Check if conv_id exists\n",
    "        if 'conv_id' not in df.columns:\n",
    "            print(f\"❌ 'conv_id' column not found. Available columns: {list(df.columns)}\")\n",
    "        else:\n",
    "            # Group by conversation\n",
    "            grouped = df.groupby('conv_id')\n",
    "            \n",
    "            for conv_id, group in grouped:\n",
    "                # Sort by utterance index\n",
    "                group = group.sort_values('utterance_idx')\n",
    "                \n",
    "                messages = []\n",
    "                for _, row in group.iterrows():\n",
    "                    role = 'user' if row['speaker_idx'] == 1 else 'assistant'\n",
    "                    content = str(row['utterance']).strip()\n",
    "                    if len(content) > 5:\n",
    "                        messages.append({\"role\": role, \"content\": content})\n",
    "                \n",
    "                if len(messages) > 1:\n",
    "                    all_conversations.append({\"messages\": messages})\n",
    "            \n",
    "            print(f\"✅ Added {len(all_conversations)} conversations from EmpatheticDialogues\")\n",
    "    \n",
    "    except Exception as e:\n",
    "        print(f\"⚠️ Error reading EmpatheticDialogues: {e}\")\n",
    "        import traceback\n",
    "        print(traceback.format_exc())\n",
    "else:\n",
    "    print(f\"⚠️ EmpatheticDialogues file not found at {empathetic_file}\")\n",
    "\n",
    "# Save to JSONL\n",
    "if all_conversations:\n",
    "    import json\n",
    "    output_file = \"data/processed/empathetic_conversations.jsonl\"\n",
    "    os.makedirs(os.path.dirname(output_file), exist_ok=True)\n",
    "    \n",
    "    with open(output_file, 'w', encoding='utf-8') as f:\n",
    "        for conv in all_conversations:\n",
    "            f.write(json.dumps(conv, ensure_ascii=False) + '\\n')\n",
    "    \n",
    "    print(f\"💾 Saved to {output_file}\")"
   ]
  },
  {
   "cell_type": "code",
   "execution_count": 63,
   "id": "057b99dc-d5a0-4035-a2c0-39717f1845fa",
   "metadata": {},
   "outputs": [
    {
     "ename": "KeyError",
     "evalue": "'conv_id'",
     "output_type": "error",
     "traceback": [
      "\u001b[0;31m---------------------------------------------------------------------------\u001b[0m",
      "\u001b[0;31mKeyError\u001b[0m                                  Traceback (most recent call last)",
      "File \u001b[0;32m/usr/local/lib/python3.10/site-packages/pandas/core/indexes/base.py:3812\u001b[0m, in \u001b[0;36mIndex.get_loc\u001b[0;34m(self, key)\u001b[0m\n\u001b[1;32m   3811\u001b[0m \u001b[38;5;28;01mtry\u001b[39;00m:\n\u001b[0;32m-> 3812\u001b[0m     \u001b[38;5;28;01mreturn\u001b[39;00m \u001b[38;5;28;43mself\u001b[39;49m\u001b[38;5;241;43m.\u001b[39;49m\u001b[43m_engine\u001b[49m\u001b[38;5;241;43m.\u001b[39;49m\u001b[43mget_loc\u001b[49m\u001b[43m(\u001b[49m\u001b[43mcasted_key\u001b[49m\u001b[43m)\u001b[49m\n\u001b[1;32m   3813\u001b[0m \u001b[38;5;28;01mexcept\u001b[39;00m \u001b[38;5;167;01mKeyError\u001b[39;00m \u001b[38;5;28;01mas\u001b[39;00m err:\n",
      "File \u001b[0;32mpandas/_libs/index.pyx:167\u001b[0m, in \u001b[0;36mpandas._libs.index.IndexEngine.get_loc\u001b[0;34m()\u001b[0m\n",
      "File \u001b[0;32mpandas/_libs/index.pyx:196\u001b[0m, in \u001b[0;36mpandas._libs.index.IndexEngine.get_loc\u001b[0;34m()\u001b[0m\n",
      "File \u001b[0;32mpandas/_libs/hashtable_class_helper.pxi:7088\u001b[0m, in \u001b[0;36mpandas._libs.hashtable.PyObjectHashTable.get_item\u001b[0;34m()\u001b[0m\n",
      "File \u001b[0;32mpandas/_libs/hashtable_class_helper.pxi:7096\u001b[0m, in \u001b[0;36mpandas._libs.hashtable.PyObjectHashTable.get_item\u001b[0;34m()\u001b[0m\n",
      "\u001b[0;31mKeyError\u001b[0m: 'conv_id'",
      "\nThe above exception was the direct cause of the following exception:\n",
      "\u001b[0;31mKeyError\u001b[0m                                  Traceback (most recent call last)",
      "Cell \u001b[0;32mIn[63], line 3\u001b[0m\n\u001b[1;32m      1\u001b[0m empathetic_file \u001b[38;5;241m=\u001b[39m \u001b[38;5;124m\"\u001b[39m\u001b[38;5;124mdata/raw/empatheticdialogues/train.csv\u001b[39m\u001b[38;5;124m\"\u001b[39m\n\u001b[1;32m      2\u001b[0m df \u001b[38;5;241m=\u001b[39m pd\u001b[38;5;241m.\u001b[39mread_csv(empathetic_file, sep\u001b[38;5;241m=\u001b[39m\u001b[38;5;124m'\u001b[39m\u001b[38;5;130;01m\\t\u001b[39;00m\u001b[38;5;124m'\u001b[39m, encoding\u001b[38;5;241m=\u001b[39m\u001b[38;5;124m'\u001b[39m\u001b[38;5;124mutf-8\u001b[39m\u001b[38;5;124m'\u001b[39m, on_bad_lines\u001b[38;5;241m=\u001b[39m\u001b[38;5;124m'\u001b[39m\u001b[38;5;124mskip\u001b[39m\u001b[38;5;124m'\u001b[39m)\n\u001b[0;32m----> 3\u001b[0m \u001b[38;5;28mprint\u001b[39m(\u001b[43mdf\u001b[49m\u001b[43m[\u001b[49m\u001b[38;5;124;43m'\u001b[39;49m\u001b[38;5;124;43mconv_id\u001b[39;49m\u001b[38;5;124;43m'\u001b[39;49m\u001b[43m]\u001b[49m\u001b[38;5;241m.\u001b[39mhead())\n",
      "File \u001b[0;32m/usr/local/lib/python3.10/site-packages/pandas/core/frame.py:4113\u001b[0m, in \u001b[0;36mDataFrame.__getitem__\u001b[0;34m(self, key)\u001b[0m\n\u001b[1;32m   4111\u001b[0m \u001b[38;5;28;01mif\u001b[39;00m \u001b[38;5;28mself\u001b[39m\u001b[38;5;241m.\u001b[39mcolumns\u001b[38;5;241m.\u001b[39mnlevels \u001b[38;5;241m>\u001b[39m \u001b[38;5;241m1\u001b[39m:\n\u001b[1;32m   4112\u001b[0m     \u001b[38;5;28;01mreturn\u001b[39;00m \u001b[38;5;28mself\u001b[39m\u001b[38;5;241m.\u001b[39m_getitem_multilevel(key)\n\u001b[0;32m-> 4113\u001b[0m indexer \u001b[38;5;241m=\u001b[39m \u001b[38;5;28;43mself\u001b[39;49m\u001b[38;5;241;43m.\u001b[39;49m\u001b[43mcolumns\u001b[49m\u001b[38;5;241;43m.\u001b[39;49m\u001b[43mget_loc\u001b[49m\u001b[43m(\u001b[49m\u001b[43mkey\u001b[49m\u001b[43m)\u001b[49m\n\u001b[1;32m   4114\u001b[0m \u001b[38;5;28;01mif\u001b[39;00m is_integer(indexer):\n\u001b[1;32m   4115\u001b[0m     indexer \u001b[38;5;241m=\u001b[39m [indexer]\n",
      "File \u001b[0;32m/usr/local/lib/python3.10/site-packages/pandas/core/indexes/base.py:3819\u001b[0m, in \u001b[0;36mIndex.get_loc\u001b[0;34m(self, key)\u001b[0m\n\u001b[1;32m   3814\u001b[0m     \u001b[38;5;28;01mif\u001b[39;00m \u001b[38;5;28misinstance\u001b[39m(casted_key, \u001b[38;5;28mslice\u001b[39m) \u001b[38;5;129;01mor\u001b[39;00m (\n\u001b[1;32m   3815\u001b[0m         \u001b[38;5;28misinstance\u001b[39m(casted_key, abc\u001b[38;5;241m.\u001b[39mIterable)\n\u001b[1;32m   3816\u001b[0m         \u001b[38;5;129;01mand\u001b[39;00m \u001b[38;5;28many\u001b[39m(\u001b[38;5;28misinstance\u001b[39m(x, \u001b[38;5;28mslice\u001b[39m) \u001b[38;5;28;01mfor\u001b[39;00m x \u001b[38;5;129;01min\u001b[39;00m casted_key)\n\u001b[1;32m   3817\u001b[0m     ):\n\u001b[1;32m   3818\u001b[0m         \u001b[38;5;28;01mraise\u001b[39;00m InvalidIndexError(key)\n\u001b[0;32m-> 3819\u001b[0m     \u001b[38;5;28;01mraise\u001b[39;00m \u001b[38;5;167;01mKeyError\u001b[39;00m(key) \u001b[38;5;28;01mfrom\u001b[39;00m\u001b[38;5;250m \u001b[39m\u001b[38;5;21;01merr\u001b[39;00m\n\u001b[1;32m   3820\u001b[0m \u001b[38;5;28;01mexcept\u001b[39;00m \u001b[38;5;167;01mTypeError\u001b[39;00m:\n\u001b[1;32m   3821\u001b[0m     \u001b[38;5;66;03m# If we have a listlike key, _check_indexing_error will raise\u001b[39;00m\n\u001b[1;32m   3822\u001b[0m     \u001b[38;5;66;03m#  InvalidIndexError. Otherwise we fall through and re-raise\u001b[39;00m\n\u001b[1;32m   3823\u001b[0m     \u001b[38;5;66;03m#  the TypeError.\u001b[39;00m\n\u001b[1;32m   3824\u001b[0m     \u001b[38;5;28mself\u001b[39m\u001b[38;5;241m.\u001b[39m_check_indexing_error(key)\n",
      "\u001b[0;31mKeyError\u001b[0m: 'conv_id'"
     ]
    }
   ],
   "source": [
    "empathetic_file = \"data/raw/empatheticdialogues/train.csv\"\n",
    "df = pd.read_csv(empathetic_file, sep='\\t', encoding='utf-8', on_bad_lines='skip')\n",
    "print(df['conv_id'].head())\n"
   ]
  },
  {
   "cell_type": "code",
   "execution_count": null,
   "id": "b35370e2-6350-43b0-9c48-d5c7cae6b05d",
   "metadata": {},
   "outputs": [],
   "source": []
  }
 ],
 "metadata": {
  "kernelspec": {
   "display_name": "Python 3 (ipykernel)",
   "language": "python",
   "name": "python3"
  },
  "language_info": {
   "codemirror_mode": {
    "name": "ipython",
    "version": 3
   },
   "file_extension": ".py",
   "mimetype": "text/x-python",
   "name": "python",
   "nbconvert_exporter": "python",
   "pygments_lexer": "ipython3",
   "version": "3.10.19"
  }
 },
 "nbformat": 4,
 "nbformat_minor": 5
}
