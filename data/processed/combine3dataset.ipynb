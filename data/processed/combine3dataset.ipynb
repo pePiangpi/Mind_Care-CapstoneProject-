{
 "cells": [
  {
   "cell_type": "code",
   "execution_count": 9,
   "id": "bf215fc1-c71e-4232-a91d-e64947489dfd",
   "metadata": {},
   "outputs": [
    {
     "name": "stdout",
     "output_type": "stream",
     "text": [
      "Combingin all data sources.........\n"
     ]
    }
   ],
   "source": [
    "import pandas as pd\n",
    "import json\n",
    "import os\n",
    "print(\"Combingin all data sources.........\")"
   ]
  },
  {
   "cell_type": "code",
   "execution_count": 10,
   "id": "e2aa6cbc-61b3-4baf-b5c5-817d6e101012",
   "metadata": {},
   "outputs": [],
   "source": [
    "all_conversations = []"
   ]
  },
  {
   "cell_type": "code",
   "execution_count": 11,
   "id": "b2423d02-da06-4a06-a720-1a43905cabf9",
   "metadata": {},
   "outputs": [
    {
     "name": "stdout",
     "output_type": "stream",
     "text": [
      "Loaded 44 conversations\n"
     ]
    }
   ],
   "source": [
    "# Survery form data\n",
    "# Open your JSONL file properly\n",
    "with open(\"data/processed/survey.jsonl\", \"r\", encoding=\"utf-8\") as f:\n",
    "    for line in f:\n",
    "        line = line.strip()\n",
    "        if not line:\n",
    "            continue\n",
    "        try:\n",
    "            data = json.loads(line)\n",
    "            # Make sure it is in 'messages' format\n",
    "            if \"user\" in data and \"assistant\" in data:\n",
    "                normalized = {\n",
    "                    \"messages\": [\n",
    "                        {\"role\": \"user\", \"content\": data[\"user\"]},\n",
    "                        {\"role\": \"assistant\", \"content\": data[\"assistant\"]}\n",
    "                    ]\n",
    "                }\n",
    "            elif \"messages\" in data:\n",
    "                normalized = data\n",
    "            else:\n",
    "                print(f\"Unknown format, skipping line: {line[:50]}\")\n",
    "                continue\n",
    "\n",
    "            all_conversations.append(normalized)\n",
    "        except json.JSONDecodeError as e:\n",
    "            print(f\"Skipping invalid JSON line: {line[:50]} | Error: {e}\")\n",
    "\n",
    "print(f\"Loaded {len(all_conversations)} conversations\")\n"
   ]
  },
  {
   "cell_type": "code",
   "execution_count": 12,
   "id": "8f15b210-a5e1-4ee8-beb0-0de06e5be761",
   "metadata": {},
   "outputs": [
    {
     "name": "stdout",
     "output_type": "stream",
     "text": [
      "📋 Reading CSV file...\n",
      "📊 Columns kept: ['conv_id', 'prompt', 'utterance']\n",
      "📊 Total rows: 76668\n",
      "✅ Successfully saved 17883 conversations to data/processed/empathetic_conversations.jsonl\n"
     ]
    }
   ],
   "source": [
    "\n",
    "\n",
    "empathetic_file = \"data/raw/empatheticdialogues/train.csv\"\n",
    "output_file = \"data/processed/empathetic_conversations.jsonl\"\n",
    "\n",
    "if os.path.exists(empathetic_file):\n",
    "    try:\n",
    "        print(\"📋 Reading CSV file...\")\n",
    "        try:\n",
    "            df = pd.read_csv(empathetic_file, sep=',', encoding='utf-8', on_bad_lines='skip')\n",
    "        except Exception:\n",
    "            print(\"⚠️ Comma separator failed, trying tab...\")\n",
    "            df = pd.read_csv(empathetic_file, sep='\\t', encoding='utf-8', on_bad_lines='skip')\n",
    "\n",
    "        # Keep only the required columns\n",
    "        keep_cols = ['conv_id', 'prompt', 'utterance']\n",
    "        df = df[[col for col in keep_cols if col in df.columns]]\n",
    "\n",
    "        # Check required columns\n",
    "        if not {'prompt', 'utterance'}.issubset(df.columns):\n",
    "            raise ValueError(\"Missing required columns: 'prompt' and 'utterance'\")\n",
    "\n",
    "        print(f\"📊 Columns kept: {list(df.columns)}\")\n",
    "        print(f\"📊 Total rows: {len(df)}\")\n",
    "\n",
    "        # If conv_id is missing, create one based on row order\n",
    "        if 'conv_id' not in df.columns:\n",
    "            df['conv_id'] = range(len(df))\n",
    "\n",
    "        # Group by conversation ID if present\n",
    "        grouped = df.groupby('conv_id')\n",
    "\n",
    "        for conv_id, group in grouped:\n",
    "            messages = []\n",
    "\n",
    "            for _, row in group.iterrows():\n",
    "                # Add the prompt as user message\n",
    "                prompt = str(row['prompt']).strip()\n",
    "                if prompt:\n",
    "                    messages.append({\"role\": \"user\", \"content\": prompt})\n",
    "\n",
    "                # Add the utterance as assistant message\n",
    "                utterance = str(row['utterance']).strip()\n",
    "                if utterance:\n",
    "                    messages.append({\"role\": \"assistant\", \"content\": utterance})\n",
    "\n",
    "            # Only include meaningful conversations\n",
    "            if len(messages) >= 2:\n",
    "                all_conversations.append({\"messages\": messages})\n",
    "\n",
    "        # Save to JSONL\n",
    "        os.makedirs(os.path.dirname(output_file), exist_ok=True)\n",
    "        with open(output_file, 'w', encoding='utf-8') as f:\n",
    "            for conv in all_conversations:\n",
    "                f.write(json.dumps(conv, ensure_ascii=False) + '\\n')\n",
    "\n",
    "        print(f\"✅ Successfully saved {len(all_conversations)} conversations to {output_file}\")\n",
    "\n",
    "    except Exception as e:\n",
    "        print(f\"⚠️ Error processing EmpatheticDialogues: {e}\")\n",
    "        import traceback\n",
    "        print(traceback.format_exc())\n",
    "\n",
    "else:\n",
    "    print(f\"⚠️ EmpatheticDialogues file not found at {empathetic_file}\")\n"
   ]
  },
  {
   "cell_type": "code",
   "execution_count": 14,
   "id": "057b99dc-d5a0-4035-a2c0-39717f1845fa",
   "metadata": {},
   "outputs": [
    {
     "name": "stdout",
     "output_type": "stream",
     "text": [
      "Loaded 17938 conversations\n"
     ]
    }
   ],
   "source": [
    "with open(\"data/processed/burmese.jsonl\", \"r\", encoding=\"utf-8\") as f:\n",
    "    for line in f:\n",
    "        line = line.strip()\n",
    "        if not line:\n",
    "            continue\n",
    "        try:\n",
    "            data = json.loads(line)\n",
    "            # Make sure it is in 'messages' format\n",
    "            if \"user\" in data and \"assistant\" in data:\n",
    "                normalized = {\n",
    "                    \"messages\": [\n",
    "                        {\"role\": \"user\", \"content\": data[\"user\"]},\n",
    "                        {\"role\": \"assistant\", \"content\": data[\"assistant\"]}\n",
    "                    ]\n",
    "                }\n",
    "            elif \"messages\" in data:\n",
    "                normalized = data\n",
    "            else:\n",
    "                print(f\"Unknown format, skipping line: {line[:50]}\")\n",
    "                continue\n",
    "\n",
    "            all_conversations.append(normalized)\n",
    "        except json.JSONDecodeError as e:\n",
    "            print(f\"Skipping invalid JSON line: {line[:50]} | Error: {e}\")\n",
    "\n",
    "print(f\"Loaded {len(all_conversations)} conversations\")\n"
   ]
  },
  {
   "cell_type": "code",
   "execution_count": 15,
   "id": "b35370e2-6350-43b0-9c48-d5c7cae6b05d",
   "metadata": {},
   "outputs": [
    {
     "name": "stdout",
     "output_type": "stream",
     "text": [
      "\n",
      "💾 Saving combined data...\n",
      "📊 Total conversations: 17938\n",
      "✅ Saved to: data/processed/combined3dataset.jsonl\n"
     ]
    }
   ],
   "source": [
    "# Save final Combined Data\n",
    "\n",
    "\n",
    "output_file = \"data/processed/combined3dataset.jsonl\"\n",
    "\n",
    "print(f\"\\n💾 Saving combined data...\")\n",
    "print(f\"📊 Total conversations: {len(all_conversations)}\")\n",
    "\n",
    "with open(output_file, 'w', encoding='utf-8') as f:\n",
    "    for conv in all_conversations:\n",
    "        f.write(json.dumps(conv, ensure_ascii=False) + '\\n')\n",
    "\n",
    "print(f\"✅ Saved to: {output_file}\")"
   ]
  },
  {
   "cell_type": "code",
   "execution_count": null,
   "id": "3d17e6f2-a798-4b62-9a08-824442a48ab7",
   "metadata": {},
   "outputs": [],
   "source": []
  }
 ],
 "metadata": {
  "kernelspec": {
   "display_name": "Python 3 (ipykernel)",
   "language": "python",
   "name": "python3"
  },
  "language_info": {
   "codemirror_mode": {
    "name": "ipython",
    "version": 3
   },
   "file_extension": ".py",
   "mimetype": "text/x-python",
   "name": "python",
   "nbconvert_exporter": "python",
   "pygments_lexer": "ipython3",
   "version": "3.10.19"
  }
 },
 "nbformat": 4,
 "nbformat_minor": 5
}
