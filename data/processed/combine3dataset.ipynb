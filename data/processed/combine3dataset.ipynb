{
 "cells": [
  {
   "cell_type": "code",
   "execution_count": 69,
   "id": "bf215fc1-c71e-4232-a91d-e64947489dfd",
   "metadata": {},
   "outputs": [
    {
     "name": "stdout",
     "output_type": "stream",
     "text": [
      "Combingin all data sources.........\n"
     ]
    }
   ],
   "source": [
    "import pandas as pd\n",
    "import json\n",
    "import os\n",
    "print(\"Combingin all data sources.........\")"
   ]
  },
  {
   "cell_type": "code",
   "execution_count": 70,
   "id": "e2aa6cbc-61b3-4baf-b5c5-817d6e101012",
   "metadata": {},
   "outputs": [],
   "source": [
    "all_conversations = []"
   ]
  },
  {
   "cell_type": "code",
   "execution_count": 71,
   "id": "b2423d02-da06-4a06-a720-1a43905cabf9",
   "metadata": {},
   "outputs": [
    {
     "name": "stdout",
     "output_type": "stream",
     "text": [
      "Loaded 44 conversations\n"
     ]
    }
   ],
   "source": [
    "# Survery form data\n",
    "# Open your JSONL file properly\n",
    "with open(\"data/processed/survey.jsonl\", \"r\", encoding=\"utf-8\") as f:\n",
    "    for line in f:\n",
    "        line = line.strip()\n",
    "        if not line:\n",
    "            continue\n",
    "        try:\n",
    "            data = json.loads(line)\n",
    "            # Make sure it is in 'messages' format\n",
    "            if \"user\" in data and \"assistant\" in data:\n",
    "                normalized = {\n",
    "                    \"messages\": [\n",
    "                        {\"role\": \"user\", \"content\": data[\"user\"]},\n",
    "                        {\"role\": \"assistant\", \"content\": data[\"assistant\"]}\n",
    "                    ]\n",
    "                }\n",
    "            elif \"messages\" in data:\n",
    "                normalized = data\n",
    "            else:\n",
    "                print(f\"Unknown format, skipping line: {line[:50]}\")\n",
    "                continue\n",
    "\n",
    "            all_conversations.append(normalized)\n",
    "        except json.JSONDecodeError as e:\n",
    "            print(f\"Skipping invalid JSON line: {line[:50]} | Error: {e}\")\n",
    "\n",
    "print(f\"Loaded {len(all_conversations)} conversations\")\n"
   ]
  },
  {
   "cell_type": "code",
   "execution_count": 72,
   "id": "8f15b210-a5e1-4ee8-beb0-0de06e5be761",
   "metadata": {},
   "outputs": [
    {
     "name": "stdout",
     "output_type": "stream",
     "text": [
      "📋 Reading CSV file...\n",
      "📊 Columns found: ['conv_id', 'utterance_idx', 'context', 'prompt', 'speaker_idx', 'utterance', 'selfeval', 'tags']\n",
      "📊 Total rows: 76668\n",
      "\n",
      "📄 First few rows:\n",
      "        conv_id  utterance_idx      context  \\\n",
      "0  hit:0_conv:1              1  sentimental   \n",
      "1  hit:0_conv:1              2  sentimental   \n",
      "2  hit:0_conv:1              3  sentimental   \n",
      "3  hit:0_conv:1              4  sentimental   \n",
      "4  hit:0_conv:1              5  sentimental   \n",
      "\n",
      "                                              prompt  speaker_idx  \\\n",
      "0  I remember going to the fireworks with my best...            1   \n",
      "1  I remember going to the fireworks with my best...            0   \n",
      "2  I remember going to the fireworks with my best...            1   \n",
      "3  I remember going to the fireworks with my best...            0   \n",
      "4  I remember going to the fireworks with my best...            1   \n",
      "\n",
      "                                           utterance     selfeval tags  \n",
      "0  I remember going to see the fireworks with my ...  5|5|5_2|2|5  NaN  \n",
      "1  Was this a friend you were in love with_comma_...  5|5|5_2|2|5  NaN  \n",
      "2                This was a best friend. I miss her.  5|5|5_2|2|5  NaN  \n",
      "3                                Where has she gone?  5|5|5_2|2|5  NaN  \n",
      "4                                 We no longer talk.  5|5|5_2|2|5  NaN  \n",
      "✅ Added 17823 conversations from EmpatheticDialogues\n",
      "💾 Saved to data/processed/empathetic_conversations.jsonl\n"
     ]
    }
   ],
   "source": [
    "# Empathetic Conversation data\n",
    "empathetic_file = \"data/raw/empatheticdialogues/train.csv\"\n",
    "\n",
    "\n",
    "if os.path.exists(empathetic_file):\n",
    "    try:\n",
    "        # First, let's check what columns exist\n",
    "        print(\"📋 Reading CSV file...\")\n",
    "        # Try comma first\n",
    "        try:\n",
    "            df = pd.read_csv(empathetic_file, sep=',', encoding='utf-8', on_bad_lines='skip')\n",
    "        except:\n",
    "            # If comma fails, try tab\n",
    "            print(\"⚠️ Comma separator failed, trying tab...\")\n",
    "            df = pd.read_csv(empathetic_file, sep='\\t', encoding='utf-8', on_bad_lines='skip')\n",
    "        \n",
    "        # Print column names to debug\n",
    "        print(f\"📊 Columns found: {list(df.columns)}\")\n",
    "        print(f\"📊 Total rows: {len(df)}\")\n",
    "        print(f\"\\n📄 First few rows:\")\n",
    "        print(df.head())\n",
    "        \n",
    "        # Clean column names (remove extra spaces)\n",
    "        df.columns = df.columns.str.strip()\n",
    "        \n",
    "        # Check if conv_id exists\n",
    "        if 'conv_id' not in df.columns:\n",
    "            print(f\"❌ 'conv_id' column not found. Available columns: {list(df.columns)}\")\n",
    "        else:\n",
    "            # Group by conversation\n",
    "            grouped = df.groupby('conv_id')\n",
    "            \n",
    "            for conv_id, group in grouped:\n",
    "                # Sort by utterance index\n",
    "                group = group.sort_values('utterance_idx')\n",
    "                \n",
    "                messages = []\n",
    "                for _, row in group.iterrows():\n",
    "                    role = 'user' if row['speaker_idx'] == 1 else 'assistant'\n",
    "                    content = str(row['utterance']).strip()\n",
    "                    if len(content) > 5:\n",
    "                        messages.append({\"role\": role, \"content\": content})\n",
    "                \n",
    "                if len(messages) > 1:\n",
    "                    all_conversations.append({\"messages\": messages})\n",
    "            \n",
    "            print(f\"✅ Added {len(all_conversations)} conversations from EmpatheticDialogues\")\n",
    "    \n",
    "    except Exception as e:\n",
    "        print(f\"⚠️ Error reading EmpatheticDialogues: {e}\")\n",
    "        import traceback\n",
    "        print(traceback.format_exc())\n",
    "else:\n",
    "    print(f\"⚠️ EmpatheticDialogues file not found at {empathetic_file}\")\n",
    "\n",
    "# Save to JSONL\n",
    "if all_conversations:\n",
    "    import json\n",
    "    output_file = \"data/processed/empathetic_conversations.jsonl\"\n",
    "    os.makedirs(os.path.dirname(output_file), exist_ok=True)\n",
    "    \n",
    "    with open(output_file, 'w', encoding='utf-8') as f:\n",
    "        for conv in all_conversations:\n",
    "            f.write(json.dumps(conv, ensure_ascii=False) + '\\n')\n",
    "    \n",
    "    print(f\"💾 Saved to {output_file}\")"
   ]
  },
  {
   "cell_type": "code",
   "execution_count": 73,
   "id": "057b99dc-d5a0-4035-a2c0-39717f1845fa",
   "metadata": {},
   "outputs": [
    {
     "name": "stdout",
     "output_type": "stream",
     "text": [
      "Loaded 17878 conversations\n"
     ]
    }
   ],
   "source": [
    "with open(\"data/processed/burmese.jsonl\", \"r\", encoding=\"utf-8\") as f:\n",
    "    for line in f:\n",
    "        line = line.strip()\n",
    "        if not line:\n",
    "            continue\n",
    "        try:\n",
    "            data = json.loads(line)\n",
    "            # Make sure it is in 'messages' format\n",
    "            if \"user\" in data and \"assistant\" in data:\n",
    "                normalized = {\n",
    "                    \"messages\": [\n",
    "                        {\"role\": \"user\", \"content\": data[\"user\"]},\n",
    "                        {\"role\": \"assistant\", \"content\": data[\"assistant\"]}\n",
    "                    ]\n",
    "                }\n",
    "            elif \"messages\" in data:\n",
    "                normalized = data\n",
    "            else:\n",
    "                print(f\"Unknown format, skipping line: {line[:50]}\")\n",
    "                continue\n",
    "\n",
    "            all_conversations.append(normalized)\n",
    "        except json.JSONDecodeError as e:\n",
    "            print(f\"Skipping invalid JSON line: {line[:50]} | Error: {e}\")\n",
    "\n",
    "print(f\"Loaded {len(all_conversations)} conversations\")\n"
   ]
  },
  {
   "cell_type": "code",
   "execution_count": 74,
   "id": "b35370e2-6350-43b0-9c48-d5c7cae6b05d",
   "metadata": {},
   "outputs": [
    {
     "name": "stdout",
     "output_type": "stream",
     "text": [
      "\n",
      "💾 Saving combined data...\n",
      "📊 Total conversations: 17878\n",
      "✅ Saved to: data/processed/combined3dataset.jsonl\n"
     ]
    }
   ],
   "source": [
    "# Save final Combined Data\n",
    "\n",
    "\n",
    "output_file = \"data/processed/combined3dataset.jsonl\"\n",
    "\n",
    "print(f\"\\n💾 Saving combined data...\")\n",
    "print(f\"📊 Total conversations: {len(all_conversations)}\")\n",
    "\n",
    "with open(output_file, 'w', encoding='utf-8') as f:\n",
    "    for conv in all_conversations:\n",
    "        f.write(json.dumps(conv, ensure_ascii=False) + '\\n')\n",
    "\n",
    "print(f\"✅ Saved to: {output_file}\")"
   ]
  },
  {
   "cell_type": "code",
   "execution_count": null,
   "id": "33b4bacf-ed66-4b15-acc4-7bcfa33651fe",
   "metadata": {},
   "outputs": [],
   "source": []
  },
  {
   "cell_type": "code",
   "execution_count": null,
   "id": "3d17e6f2-a798-4b62-9a08-824442a48ab7",
   "metadata": {},
   "outputs": [],
   "source": []
  }
 ],
 "metadata": {
  "kernelspec": {
   "display_name": "Python 3 (ipykernel)",
   "language": "python",
   "name": "python3"
  },
  "language_info": {
   "codemirror_mode": {
    "name": "ipython",
    "version": 3
   },
   "file_extension": ".py",
   "mimetype": "text/x-python",
   "name": "python",
   "nbconvert_exporter": "python",
   "pygments_lexer": "ipython3",
   "version": "3.10.19"
  }
 },
 "nbformat": 4,
 "nbformat_minor": 5
}
